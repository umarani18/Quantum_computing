{
  "nbformat": 4,
  "nbformat_minor": 0,
  "metadata": {
    "colab": {
      "provenance": []
    },
    "kernelspec": {
      "name": "python3",
      "display_name": "Python 3"
    },
    "language_info": {
      "name": "python"
    }
  },
  "cells": [
    {
      "cell_type": "code",
      "source": [
        "!pip install qiskit\n",
        "!pip install pylatexenc"
      ],
      "metadata": {
        "colab": {
          "base_uri": "https://localhost:8080/"
        },
        "id": "p60Mp_X8L7of",
        "outputId": "c74e2d0c-750e-42cd-9fb0-53dd26c35068"
      },
      "execution_count": 1,
      "outputs": [
        {
          "output_type": "stream",
          "name": "stdout",
          "text": [
            "Requirement already satisfied: qiskit in /usr/local/lib/python3.11/dist-packages (1.3.2)\n",
            "Requirement already satisfied: rustworkx>=0.15.0 in /usr/local/lib/python3.11/dist-packages (from qiskit) (0.16.0)\n",
            "Requirement already satisfied: numpy<3,>=1.17 in /usr/local/lib/python3.11/dist-packages (from qiskit) (1.26.4)\n",
            "Requirement already satisfied: scipy>=1.5 in /usr/local/lib/python3.11/dist-packages (from qiskit) (1.13.1)\n",
            "Requirement already satisfied: sympy>=1.3 in /usr/local/lib/python3.11/dist-packages (from qiskit) (1.13.1)\n",
            "Requirement already satisfied: dill>=0.3 in /usr/local/lib/python3.11/dist-packages (from qiskit) (0.3.9)\n",
            "Requirement already satisfied: python-dateutil>=2.8.0 in /usr/local/lib/python3.11/dist-packages (from qiskit) (2.8.2)\n",
            "Requirement already satisfied: stevedore>=3.0.0 in /usr/local/lib/python3.11/dist-packages (from qiskit) (5.4.0)\n",
            "Requirement already satisfied: typing-extensions in /usr/local/lib/python3.11/dist-packages (from qiskit) (4.12.2)\n",
            "Requirement already satisfied: symengine<0.14,>=0.11 in /usr/local/lib/python3.11/dist-packages (from qiskit) (0.13.0)\n",
            "Requirement already satisfied: six>=1.5 in /usr/local/lib/python3.11/dist-packages (from python-dateutil>=2.8.0->qiskit) (1.17.0)\n",
            "Requirement already satisfied: pbr>=2.0.0 in /usr/local/lib/python3.11/dist-packages (from stevedore>=3.0.0->qiskit) (6.1.1)\n",
            "Requirement already satisfied: mpmath<1.4,>=1.1.0 in /usr/local/lib/python3.11/dist-packages (from sympy>=1.3->qiskit) (1.3.0)\n",
            "Requirement already satisfied: setuptools in /usr/local/lib/python3.11/dist-packages (from pbr>=2.0.0->stevedore>=3.0.0->qiskit) (75.1.0)\n",
            "Requirement already satisfied: pylatexenc in /usr/local/lib/python3.11/dist-packages (2.10)\n"
          ]
        }
      ]
    },
    {
      "cell_type": "code",
      "source": [
        "!pip install qiskit_aer"
      ],
      "metadata": {
        "colab": {
          "base_uri": "https://localhost:8080/"
        },
        "id": "ySMGoUflZVRM",
        "outputId": "25a60ac4-486a-4c1a-8adc-ebb4870d3c1c"
      },
      "execution_count": 2,
      "outputs": [
        {
          "output_type": "stream",
          "name": "stdout",
          "text": [
            "Requirement already satisfied: qiskit_aer in /usr/local/lib/python3.11/dist-packages (0.16.1)\n",
            "Requirement already satisfied: qiskit>=1.1.0 in /usr/local/lib/python3.11/dist-packages (from qiskit_aer) (1.3.2)\n",
            "Requirement already satisfied: numpy>=1.16.3 in /usr/local/lib/python3.11/dist-packages (from qiskit_aer) (1.26.4)\n",
            "Requirement already satisfied: scipy>=1.0 in /usr/local/lib/python3.11/dist-packages (from qiskit_aer) (1.13.1)\n",
            "Requirement already satisfied: psutil>=5 in /usr/local/lib/python3.11/dist-packages (from qiskit_aer) (5.9.5)\n",
            "Requirement already satisfied: rustworkx>=0.15.0 in /usr/local/lib/python3.11/dist-packages (from qiskit>=1.1.0->qiskit_aer) (0.16.0)\n",
            "Requirement already satisfied: sympy>=1.3 in /usr/local/lib/python3.11/dist-packages (from qiskit>=1.1.0->qiskit_aer) (1.13.1)\n",
            "Requirement already satisfied: dill>=0.3 in /usr/local/lib/python3.11/dist-packages (from qiskit>=1.1.0->qiskit_aer) (0.3.9)\n",
            "Requirement already satisfied: python-dateutil>=2.8.0 in /usr/local/lib/python3.11/dist-packages (from qiskit>=1.1.0->qiskit_aer) (2.8.2)\n",
            "Requirement already satisfied: stevedore>=3.0.0 in /usr/local/lib/python3.11/dist-packages (from qiskit>=1.1.0->qiskit_aer) (5.4.0)\n",
            "Requirement already satisfied: typing-extensions in /usr/local/lib/python3.11/dist-packages (from qiskit>=1.1.0->qiskit_aer) (4.12.2)\n",
            "Requirement already satisfied: symengine<0.14,>=0.11 in /usr/local/lib/python3.11/dist-packages (from qiskit>=1.1.0->qiskit_aer) (0.13.0)\n",
            "Requirement already satisfied: six>=1.5 in /usr/local/lib/python3.11/dist-packages (from python-dateutil>=2.8.0->qiskit>=1.1.0->qiskit_aer) (1.17.0)\n",
            "Requirement already satisfied: pbr>=2.0.0 in /usr/local/lib/python3.11/dist-packages (from stevedore>=3.0.0->qiskit>=1.1.0->qiskit_aer) (6.1.1)\n",
            "Requirement already satisfied: mpmath<1.4,>=1.1.0 in /usr/local/lib/python3.11/dist-packages (from sympy>=1.3->qiskit>=1.1.0->qiskit_aer) (1.3.0)\n",
            "Requirement already satisfied: setuptools in /usr/local/lib/python3.11/dist-packages (from pbr>=2.0.0->stevedore>=3.0.0->qiskit>=1.1.0->qiskit_aer) (75.1.0)\n"
          ]
        }
      ]
    },
    {
      "cell_type": "markdown",
      "source": [
        "**Installing dependencies**"
      ],
      "metadata": {
        "id": "Yf2P9yvbKZTb"
      }
    },
    {
      "cell_type": "code",
      "source": [
        "from qiskit import transpile, assemble\n",
        "from qiskit import QuantumCircuit\n",
        "from qiskit_aer import AerSimulator\n",
        "from qiskit.visualization import plot_histogram\n",
        "from qiskit.circuit.library import QFT, Diagonal, GroverOperator\n",
        "from qiskit.quantum_info import DensityMatrix, Statevector\n",
        "from qiskit.visualization import circuit_drawer, plot_state_city, plot_state_qsphere, plot_bloch_multivector, plot_state_hinton, plot_state_paulivec\n",
        "import matplotlib.pyplot as plt"
      ],
      "metadata": {
        "id": "UKTtV2RBL7So"
      },
      "execution_count": 3,
      "outputs": []
    },
    {
      "cell_type": "markdown",
      "source": [
        "**Quantum Counting**"
      ],
      "metadata": {
        "id": "ddsxQPwmKwCU"
      }
    },
    {
      "cell_type": "code",
      "source": [
        "class quantum_count:\n",
        "    def __init__(self, n_search_qubits, n_counting_qubits, n_iterations):\n",
        "        self.n_search_qubits = n_search_qubits\n",
        "        self.n_counting_qubits = n_counting_qubits\n",
        "        self.n_iterations = n_iterations\n",
        "        self.qc = self.prepare_circuit()\n",
        "        self.qc1 = self.prepare_circuit1()\n",
        "        self.simulator = AerSimulator()\n",
        "        self.result = None\n",
        "\n",
        "    def grover_operator(self, n_iterations):\n",
        "        \"\"\"Grover iteration circuit for oracle with 5/16 solutions\"\"\"\n",
        "        oracle = Diagonal([1,1,-1,1,1,1,1,-1,1,1,-1,-1,1,1,-1,1])\n",
        "        grover_it = GroverOperator(oracle).repeat(n_iterations).to_gate()\n",
        "        grover_it.label = f\"Grover^{n_iterations}\"\n",
        "        return grover_it\n",
        "\n",
        "    def prepare_circuit(self):\n",
        "        qc = QuantumCircuit(self.n_search_qubits + self.n_counting_qubits, self.n_counting_qubits)\n",
        "        # Initialize all qubits to |+>\n",
        "        for qubit in range(self.n_search_qubits + self.n_counting_qubits):\n",
        "            qc.h(qubit)\n",
        "\n",
        "        # Begin controlled Grover iterations\n",
        "        n_iterations = 1\n",
        "        for qubit in range(self.n_counting_qubits):\n",
        "            cgrit = self.grover_operator(n_iterations).control()\n",
        "            qc.append(cgrit, [qubit] + list(range(self.n_counting_qubits, self.n_search_qubits + self.n_counting_qubits)))\n",
        "            n_iterations *= 2\n",
        "\n",
        "        # Do inverse QFT on counting qubits\n",
        "        qft_dagger = QFT(self.n_counting_qubits, inverse=True).to_gate()\n",
        "        qft_dagger.label = \"QFT†\"\n",
        "        qc.append(qft_dagger, range(self.n_counting_qubits))\n",
        "\n",
        "        # Measure counting qubits\n",
        "        qc.measure(range(self.n_counting_qubits), range(self.n_counting_qubits))\n",
        "        return qc\n",
        "\n",
        "    def prepare_circuit1(self):\n",
        "        qc1 = QuantumCircuit(self.n_search_qubits + self.n_counting_qubits, self.n_counting_qubits)\n",
        "        # Initialize all qubits to |+>\n",
        "        for qubit in range(self.n_search_qubits + self.n_counting_qubits):\n",
        "            qc1.h(qubit)\n",
        "\n",
        "        # Begin controlled Grover iterations\n",
        "        n_iterations = 1\n",
        "        for qubit in range(self.n_counting_qubits):\n",
        "            cgrit = self.grover_operator(n_iterations).control()\n",
        "            qc1.append(cgrit, [qubit] + list(range(self.n_counting_qubits, self.n_search_qubits + self.n_counting_qubits)))\n",
        "            n_iterations *= 2\n",
        "\n",
        "        # Do inverse QFT on counting qubits\n",
        "        qft_dagger = QFT(self.n_counting_qubits, inverse=True).to_gate()\n",
        "        qft_dagger.label = \"QFT†\"\n",
        "        qc1.append(qft_dagger, range(self.n_counting_qubits))\n",
        "        return qc1\n",
        "\n",
        "    def run_simulation(self, shots=1024):\n",
        "        transpiled_qc = transpile(self.qc, self.simulator)\n",
        "        job = self.simulator.run(transpiled_qc, shots=shots)\n",
        "        self.result = job.result()\n",
        "\n",
        "    def run_simulation1(self, shots=1024):\n",
        "        transpiled_qc = transpile(self.qc1, self.simulator)\n",
        "        job = self.simulator.run(transpiled_qc, shots=shots)\n",
        "        self.result = job.result()\n",
        "\n",
        "    def get_counts(self):\n",
        "        if self.result:\n",
        "            counts = self.result.get_counts(self.qc)\n",
        "            return counts\n",
        "        else:\n",
        "            raise RuntimeError(\"Simulation has not been run yet.\")\n",
        "\n",
        "    def plot_result(self):\n",
        "        if self.result:\n",
        "            counts = self.result.get_counts(self.qc)\n",
        "            fig = plot_histogram(counts)\n",
        "            plt.close(fig)  # Close the figure after plotting\n",
        "            return fig\n",
        "        else:\n",
        "            raise RuntimeError(\"Simulation has not been run yet.\")\n",
        "\n",
        "    def psi(self):\n",
        "        psi = Statevector(self.qc1)  # Ensure correct method for statevector creation\n",
        "        return psi\n",
        "\n",
        "    def get_density(self):\n",
        "        psi = Statevector(self.qc1)\n",
        "        return DensityMatrix(psi).draw(\"latex\").data\n",
        "\n",
        "    def get_city(self):\n",
        "        psi = Statevector(self.qc1)\n",
        "        fig = plot_state_city(psi)\n",
        "        plt.close(fig)  # Close the figure after plotting\n",
        "        return fig\n",
        "\n",
        "    def get_circuit(self):\n",
        "        fig = circuit_drawer(self.qc, output='mpl', filename='circuit.png')\n",
        "        plt.close(fig)  # Close the figure after plotting\n",
        "        return fig\n",
        "\n",
        "    def get_hinton(self):\n",
        "        psi = Statevector(self.qc1)\n",
        "        fig = plot_state_hinton(psi)\n",
        "        plt.close(fig)  # Close the figure after plotting\n",
        "        return fig\n",
        "\n",
        "    def get_paulivec(self):\n",
        "        psi = Statevector(self.qc1)\n",
        "        fig = plot_state_paulivec(psi)\n",
        "        plt.close(fig)  # Close the figure after plotting\n",
        "        return fig\n",
        "\n",
        "    def get_qsphere(self):\n",
        "        psi = Statevector(self.qc1)\n",
        "        fig = plot_state_qsphere(psi)\n",
        "        plt.close(fig)  # Close the figure after plotting\n",
        "        return fig\n",
        "\n",
        "    def get_bloch(self):\n",
        "        psi = Statevector(self.qc1)\n",
        "        fig = plot_bloch_multivector(psi)\n",
        "        plt.close(fig)  # Close the figure after plotting\n",
        "        return fig"
      ],
      "metadata": {
        "id": "iKF8rrQ0L8JK"
      },
      "execution_count": 12,
      "outputs": []
    },
    {
      "cell_type": "markdown",
      "source": [
        "**Running simulation with measurement**"
      ],
      "metadata": {
        "id": "Qm84V15WLopk"
      }
    },
    {
      "cell_type": "code",
      "source": [
        "simulator = quantum_count(4, 4, 1)\n",
        "simulator.run_simulation()"
      ],
      "metadata": {
        "id": "1oBcYABvL8jZ"
      },
      "execution_count": 13,
      "outputs": []
    },
    {
      "cell_type": "markdown",
      "source": [
        "**Counts**"
      ],
      "metadata": {
        "id": "nQros3yLL9RK"
      }
    },
    {
      "cell_type": "code",
      "execution_count": 14,
      "metadata": {
        "colab": {
          "base_uri": "https://localhost:8080/"
        },
        "id": "rQApahsFKVZ1",
        "outputId": "6c96ff0d-c992-4f2c-d0a6-d4e5439f45fd"
      },
      "outputs": [
        {
          "output_type": "execute_result",
          "data": {
            "text/plain": [
              "{'1101': 529, '0011': 495}"
            ]
          },
          "metadata": {},
          "execution_count": 14
        }
      ],
      "source": [
        "simulator.get_counts()"
      ]
    },
    {
      "cell_type": "markdown",
      "source": [
        "**Running simuation wihout measurements**"
      ],
      "metadata": {
        "id": "MVD1oV1TMX7t"
      }
    },
    {
      "cell_type": "code",
      "source": [
        "simulator.run_simulation1()"
      ],
      "metadata": {
        "id": "aHhbG6sJMYOR"
      },
      "execution_count": 15,
      "outputs": []
    },
    {
      "cell_type": "markdown",
      "source": [
        "**Density matrix**"
      ],
      "metadata": {
        "id": "eBE0bpwHMlhD"
      }
    },
    {
      "cell_type": "code",
      "source": [
        "from IPython.display import display, Latex\n",
        "dmatrix=simulator.get_density()\n",
        "display(Latex(dmatrix))"
      ],
      "metadata": {
        "colab": {
          "base_uri": "https://localhost:8080/",
          "height": 211
        },
        "id": "UBG_v7SJMl3A",
        "outputId": "a08ffce7-28aa-4155-993f-3d5e3b2e1575"
      },
      "execution_count": 16,
      "outputs": [
        {
          "output_type": "display_data",
          "data": {
            "text/plain": [
              "<IPython.core.display.Latex object>"
            ],
            "text/latex": "$$\n\n\\begin{bmatrix}\n4.9836 \\cdot 10^{-6} & 5.4374 \\cdot 10^{-6} - 1.1929 \\cdot 10^{-6} i & 7.8697 \\cdot 10^{-6} - 3.643 \\cdot 10^{-6} i & 0.0002679123 - 0.0002057369 i & \\cdots & 0.0002679123 + 0.0002057369 i & 7.8697 \\cdot 10^{-6} + 3.643 \\cdot 10^{-6} i & 5.4374 \\cdot 10^{-6} + 1.1929 \\cdot 10^{-6} i  \\\\\n 5.4374 \\cdot 10^{-6} + 1.1929 \\cdot 10^{-6} i & 6.2181 \\cdot 10^{-6} & 9.4584 \\cdot 10^{-6} - 2.091 \\cdot 10^{-6} i & 0.0003415587 - 0.0001603421 i & \\cdots & 0.0002430629 + 0.0002886042 i & 7.7143 \\cdot 10^{-6} + 5.8586 \\cdot 10^{-6} i & 5.647 \\cdot 10^{-6} + 2.6031 \\cdot 10^{-6} i  \\\\\n 7.8697 \\cdot 10^{-6} + 3.643 \\cdot 10^{-6} i & 9.4584 \\cdot 10^{-6} + 2.091 \\cdot 10^{-6} i & 1.50903 \\cdot 10^{-5} & 0.0005734637 - 0.0001290406 i & \\cdots & 0.0002726743 + 0.0005207311 i & 9.7642 \\cdot 10^{-6} + 1.15056 \\cdot 10^{-5} i & 7.7143 \\cdot 10^{-6} + 5.8586 \\cdot 10^{-6} i  \\\\\n 0.0002679123 + 0.0002057369 i & 0.0003415587 + 0.0001603421 i & 0.0005734637 + 0.0001290406 i & 0.0228962534 & \\cdots & 0.0059093025 + 0.0221205462 i & 0.0002726743 + 0.0005207311 i & 0.0002430629 + 0.0002886042 i  \\\\\n \\vdots & \\vdots & \\vdots & \\vdots & \\ddots & \\vdots & \\vdots & \\vdots \\\\\n 0.0002679123 - 0.0002057369 i & 0.0002430629 - 0.0002886042 i & 0.0002726743 - 0.0005207311 i & 0.0059093025 - 0.0221205462 i & \\cdots & 0.0228962534 & 0.0005734637 - 0.0001290406 i & 0.0003415587 - 0.0001603421 i  \\\\\n 7.8697 \\cdot 10^{-6} - 3.643 \\cdot 10^{-6} i & 7.7143 \\cdot 10^{-6} - 5.8586 \\cdot 10^{-6} i & 9.7642 \\cdot 10^{-6} - 1.15056 \\cdot 10^{-5} i & 0.0002726743 - 0.0005207311 i & \\cdots & 0.0005734637 + 0.0001290406 i & 1.50903 \\cdot 10^{-5} & 9.4584 \\cdot 10^{-6} - 2.091 \\cdot 10^{-6} i  \\\\\n 5.4374 \\cdot 10^{-6} - 1.1929 \\cdot 10^{-6} i & 5.647 \\cdot 10^{-6} - 2.6031 \\cdot 10^{-6} i & 7.7143 \\cdot 10^{-6} - 5.8586 \\cdot 10^{-6} i & 0.0002430629 - 0.0002886042 i & \\cdots & 0.0003415587 + 0.0001603421 i & 9.4584 \\cdot 10^{-6} + 2.091 \\cdot 10^{-6} i & 6.2181 \\cdot 10^{-6}  \\\\\n \\end{bmatrix}\n$$"
          },
          "metadata": {}
        }
      ]
    },
    {
      "cell_type": "markdown",
      "source": [
        "**Circuit Representation**"
      ],
      "metadata": {
        "id": "0rMy4PX7NaJk"
      }
    },
    {
      "cell_type": "code",
      "source": [
        "simulator.get_circuit()"
      ],
      "metadata": {
        "colab": {
          "base_uri": "https://localhost:8080/",
          "height": 642
        },
        "id": "8nP0OCOnNab5",
        "outputId": "37d6c0cd-d185-4da5-cef3-87d16e088ba7"
      },
      "execution_count": 18,
      "outputs": [
        {
          "output_type": "execute_result",
          "data": {
            "text/plain": [
              "<Figure size 1374.44x785.944 with 1 Axes>"
            ],
            "image/png": "[encoded data removed]"
          },
          "metadata": {},
          "execution_count": 18
        }
      ]
    }
  ]
}